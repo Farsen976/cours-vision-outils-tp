{
 "cells": [
  {
   "cell_type": "code",
   "execution_count": 13,
   "metadata": {},
   "outputs": [],
   "source": [
    "import torch\n",
    "import torch.nn as nn\n",
    "import numpy as np\n",
    "import matplotlib.pyplot as plt\n",
    "import numpy as np"
   ]
  },
  {
   "cell_type": "code",
   "execution_count": 59,
   "metadata": {},
   "outputs": [
    {
     "data": {
      "text/plain": [
       "[<matplotlib.lines.Line2D at 0x7f03daa95828>]"
      ]
     },
     "execution_count": 59,
     "metadata": {},
     "output_type": "execute_result"
    },
    {
     "data": {
      "image/png": "[encoded data removed]",
      "text/plain": [
       "<Figure size 432x288 with 1 Axes>"
      ]
     },
     "metadata": {
      "needs_background": "light"
     },
     "output_type": "display_data"
    }
   ],
   "source": [
    "x_train = np.array([[v] for v in np.random.random(20)*10], dtype=np.float32)\n",
    "\n",
    "noise = np.array([[v] for v in np.random.random(20)*4-2], dtype=np.float32)\n",
    "y_train = 2*x_train + noise\n",
    "\n",
    "plt.plot(x_train, y_train, 'ro', label='Original data')"
   ]
  },
  {
   "cell_type": "code",
   "execution_count": 60,
   "metadata": {},
   "outputs": [
    {
     "name": "stdout",
     "output_type": "stream",
     "text": [
      "Epoch [5/60], Loss: 34.8815\n",
      "Epoch [10/60], Loss: 15.0574\n",
      "Epoch [15/60], Loss: 6.9408\n",
      "Epoch [20/60], Loss: 3.6173\n",
      "Epoch [25/60], Loss: 2.2563\n",
      "Epoch [30/60], Loss: 1.6987\n",
      "Epoch [35/60], Loss: 1.4700\n",
      "Epoch [40/60], Loss: 1.3760\n",
      "Epoch [45/60], Loss: 1.3371\n",
      "Epoch [50/60], Loss: 1.3208\n",
      "Epoch [55/60], Loss: 1.3137\n",
      "Epoch [60/60], Loss: 1.3105\n"
     ]
    }
   ],
   "source": [
    "## ----- TODO : Utiliser Pytorch pour trouver une regression linéaire pour les données ----- ##\n",
    "\n",
    "# Un réseau avec une seule couche linéaire (nn.Linear) sera suffisant\n",
    "# Vous pouvez utiliser la MSELoss (nn.MSELoss) comme fonction de loss\n",
    "\n",
    "## ----------------------------------------------------------------------------------------- ##"
   ]
  },
  {
   "cell_type": "code",
   "execution_count": 65,
   "metadata": {},
   "outputs": [
    {
     "data": {
      "image/png": "[encoded data removed]",
      "text/plain": [
       "<Figure size 432x288 with 1 Axes>"
      ]
     },
     "metadata": {
      "needs_background": "light"
     },
     "output_type": "display_data"
    }
   ],
   "source": [
    "y_hat = model(torch.from_numpy(x_train)).detach().numpy()\n",
    "\n",
    "plt.plot(x_train, y_train, 'ro', label=\"data\")\n",
    "plt.plot(x_train, y_hat, label=\"prediction\")\n",
    "plt.legend()\n",
    "plt.show()"
   ]
  },
  {
   "cell_type": "code",
   "execution_count": null,
   "metadata": {},
   "outputs": [],
   "source": []
  },
  {
   "cell_type": "code",
   "execution_count": null,
   "metadata": {},
   "outputs": [],
   "source": []
  }
 ],
 "metadata": {
  "kernelspec": {
   "display_name": "Python 3",
   "language": "python",
   "name": "python3"
  },
  "language_info": {
   "codemirror_mode": {
    "name": "ipython",
    "version": 3
   },
   "file_extension": ".py",
   "mimetype": "text/x-python",
   "name": "python",
   "nbconvert_exporter": "python",
   "pygments_lexer": "ipython3",
   "version": "3.6.4"
  }
 },
 "nbformat": 4,
 "nbformat_minor": 2
}
