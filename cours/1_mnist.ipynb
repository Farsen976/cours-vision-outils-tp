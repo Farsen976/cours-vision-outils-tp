{
 "cells": [
  {
   "cell_type": "code",
   "execution_count": 60,
   "metadata": {},
   "outputs": [],
   "source": [
    "import torch\n",
    "import torch.nn as nn\n",
    "import torchvision\n",
    "import torchvision.transforms as transforms\n",
    "\n",
    "import matplotlib.pyplot as plt"
   ]
  },
  {
   "cell_type": "code",
   "execution_count": 61,
   "metadata": {},
   "outputs": [],
   "source": [
    "# Device configuration\n",
    "device = torch.device('cuda' if torch.cuda.is_available() else 'cpu')\n",
    "\n",
    "# Hyper-parameters \n",
    "input_size = 784\n",
    "hidden_size = 500\n",
    "num_classes = 10\n",
    "num_epochs = 5\n",
    "batch_size = 100\n",
    "learning_rate = 0.001"
   ]
  },
  {
   "cell_type": "code",
   "execution_count": 62,
   "metadata": {},
   "outputs": [],
   "source": [
    "# MNIST dataset \n",
    "train_dataset = torchvision.datasets.MNIST(root='data', \n",
    "                                           train=True, \n",
    "                                           transform=transforms.ToTensor(),  \n",
    "                                           download=True)\n",
    "\n",
    "test_dataset = torchvision.datasets.MNIST(root='data', \n",
    "                                          train=False, \n",
    "                                          transform=transforms.ToTensor())\n",
    "\n",
    "# Data loader\n",
    "train_loader = torch.utils.data.DataLoader(dataset=train_dataset, \n",
    "                                           batch_size=batch_size, \n",
    "                                           shuffle=True)\n",
    "\n",
    "test_loader = torch.utils.data.DataLoader(dataset=test_dataset, \n",
    "                                          batch_size=batch_size, \n",
    "                                          shuffle=False)"
   ]
  },
  {
   "cell_type": "code",
   "execution_count": 70,
   "metadata": {},
   "outputs": [
    {
     "name": "stdout",
     "output_type": "stream",
     "text": [
      "torch.Size([28, 28])\n"
     ]
    },
    {
     "data": {
      "text/plain": [
       "<matplotlib.image.AxesImage at 0x7fc1698525c0>"
      ]
     },
     "execution_count": 70,
     "metadata": {},
     "output_type": "execute_result"
    },
    {
     "data": {
      "image/png": "[encoded data removed]",
      "text/plain": [
       "<Figure size 432x288 with 1 Axes>"
      ]
     },
     "metadata": {
      "needs_background": "light"
     },
     "output_type": "display_data"
    }
   ],
   "source": [
    "img = test_dataset[0][0][0]\n",
    "print(img.shape)\n",
    "plt.imshow(img)"
   ]
  },
  {
   "cell_type": "code",
   "execution_count": 64,
   "metadata": {},
   "outputs": [],
   "source": [
    "# Fully connected neural network with one hidden layer\n",
    "class NeuralNet(nn.Module):\n",
    "    def __init__(self, input_size, hidden_size, num_classes):\n",
    "        super(NeuralNet, self).__init__()\n",
    "        self.fc1 = nn.Linear(input_size, hidden_size) \n",
    "        self.relu = nn.ReLU()\n",
    "        self.fc2 = nn.Linear(hidden_size, num_classes)  \n",
    "    \n",
    "    def forward(self, x):\n",
    "        out = self.fc1(x)\n",
    "        out = self.relu(out)\n",
    "        out = self.fc2(out)\n",
    "        return out\n",
    "\n",
    "model = NeuralNet(input_size, hidden_size, num_classes).to(device)\n",
    "\n",
    "# Loss and optimizer\n",
    "criterion = nn.CrossEntropyLoss()\n",
    "optimizer = torch.optim.Adam(model.parameters(), lr=learning_rate)"
   ]
  },
  {
   "cell_type": "code",
   "execution_count": 71,
   "metadata": {},
   "outputs": [
    {
     "name": "stdout",
     "output_type": "stream",
     "text": [
      "torch.Size([1, 784])\n",
      "tensor([[ -5.4498,  -9.3333,  -2.2420,   1.1746, -14.4034,  -6.2126, -18.5642,\n",
      "           9.3015,  -3.5639,  -1.5182]], device='cuda:0',\n",
      "       grad_fn=<AddmmBackward>)\n",
      "--------\n",
      "Prediction for the MNIST 7 image : 7\n"
     ]
    }
   ],
   "source": [
    "def print_prediction():\n",
    "    img = test_dataset[0][0].reshape(-1, 28*28)\n",
    "    print(img.shape)\n",
    "    output = model(img.to(device))\n",
    "    print(output)\n",
    "    _, predicted = torch.max(output.data, 1)\n",
    "\n",
    "    print(\"--------\")\n",
    "    print(\"Prediction for the MNIST 7 image : %d\" % predicted.cpu().numpy()[0])\n",
    "    \n",
    "print_prediction()"
   ]
  },
  {
   "cell_type": "code",
   "execution_count": 66,
   "metadata": {},
   "outputs": [
    {
     "name": "stdout",
     "output_type": "stream",
     "text": [
      "Accuracy of the network on the 10000 test images: 5.48 %\n"
     ]
    }
   ],
   "source": [
    "# Test the model\n",
    "# In test phase, we don't need to compute gradients (for memory efficiency)\n",
    "def print_accuracy():\n",
    "    with torch.no_grad():\n",
    "        correct = 0\n",
    "        total = 0\n",
    "        for images, labels in test_loader:\n",
    "            images = images.reshape(-1, 28*28).to(device)\n",
    "            labels = labels.to(device)\n",
    "            outputs = model(images)\n",
    "            _, predicted = torch.max(outputs.data, 1)\n",
    "            total += labels.size(0)\n",
    "            correct += (predicted == labels).sum().item()\n",
    "\n",
    "        print('Accuracy of the network on the 10000 test images: {} %'.format(100 * correct / total))\n",
    "        \n",
    "print_accuracy()"
   ]
  },
  {
   "cell_type": "code",
   "execution_count": 67,
   "metadata": {},
   "outputs": [
    {
     "name": "stdout",
     "output_type": "stream",
     "text": [
      "Epoch [1/5], Step [100/600], Loss: 0.4039\n",
      "Epoch [1/5], Step [200/600], Loss: 0.2689\n",
      "Epoch [1/5], Step [300/600], Loss: 0.2096\n",
      "Epoch [1/5], Step [400/600], Loss: 0.1337\n",
      "Epoch [1/5], Step [500/600], Loss: 0.1751\n",
      "Epoch [1/5], Step [600/600], Loss: 0.1904\n",
      "Epoch [2/5], Step [100/600], Loss: 0.1410\n",
      "Epoch [2/5], Step [200/600], Loss: 0.1919\n",
      "Epoch [2/5], Step [300/600], Loss: 0.0705\n",
      "Epoch [2/5], Step [400/600], Loss: 0.1496\n",
      "Epoch [2/5], Step [500/600], Loss: 0.0993\n",
      "Epoch [2/5], Step [600/600], Loss: 0.1264\n",
      "Epoch [3/5], Step [100/600], Loss: 0.0463\n",
      "Epoch [3/5], Step [200/600], Loss: 0.0278\n",
      "Epoch [3/5], Step [300/600], Loss: 0.0689\n",
      "Epoch [3/5], Step [400/600], Loss: 0.0954\n",
      "Epoch [3/5], Step [500/600], Loss: 0.0560\n",
      "Epoch [3/5], Step [600/600], Loss: 0.0623\n",
      "Epoch [4/5], Step [100/600], Loss: 0.0604\n",
      "Epoch [4/5], Step [200/600], Loss: 0.0191\n",
      "Epoch [4/5], Step [300/600], Loss: 0.0567\n",
      "Epoch [4/5], Step [400/600], Loss: 0.0277\n",
      "Epoch [4/5], Step [500/600], Loss: 0.0496\n",
      "Epoch [4/5], Step [600/600], Loss: 0.0167\n",
      "Epoch [5/5], Step [100/600], Loss: 0.0466\n",
      "Epoch [5/5], Step [200/600], Loss: 0.0315\n",
      "Epoch [5/5], Step [300/600], Loss: 0.0389\n",
      "Epoch [5/5], Step [400/600], Loss: 0.0459\n",
      "Epoch [5/5], Step [500/600], Loss: 0.0111\n",
      "Epoch [5/5], Step [600/600], Loss: 0.0528\n"
     ]
    }
   ],
   "source": [
    "# Train the model\n",
    "total_step = len(train_loader)\n",
    "for epoch in range(num_epochs):\n",
    "    for i, (images, labels) in enumerate(train_loader):  \n",
    "        # Move tensors to the configured device\n",
    "        images = images.reshape(-1, 28*28).to(device)\n",
    "        labels = labels.to(device)\n",
    "        \n",
    "        # Forward pass\n",
    "        outputs = model(images)\n",
    "        loss = criterion(outputs, labels)\n",
    "        \n",
    "        # Backward and optimize\n",
    "        optimizer.zero_grad()\n",
    "        loss.backward()\n",
    "        optimizer.step()\n",
    "        \n",
    "        if (i+1) % 100 == 0:\n",
    "            print ('Epoch [{}/{}], Step [{}/{}], Loss: {:.4f}' \n",
    "                   .format(epoch+1, num_epochs, i+1, total_step, loss.item()))"
   ]
  },
  {
   "cell_type": "code",
   "execution_count": 68,
   "metadata": {},
   "outputs": [
    {
     "name": "stdout",
     "output_type": "stream",
     "text": [
      "Accuracy of the network on the 10000 test images: 97.94 %\n"
     ]
    }
   ],
   "source": [
    "print_accuracy()\n",
    "\n",
    "# Save the model checkpoint\n",
    "torch.save(model.state_dict(), 'model.ckpt')"
   ]
  },
  {
   "cell_type": "code",
   "execution_count": 72,
   "metadata": {},
   "outputs": [
    {
     "name": "stdout",
     "output_type": "stream",
     "text": [
      "torch.Size([1, 784])\n",
      "tensor([[ -5.4498,  -9.3333,  -2.2420,   1.1746, -14.4034,  -6.2126, -18.5642,\n",
      "           9.3015,  -3.5639,  -1.5182]], device='cuda:0',\n",
      "       grad_fn=<AddmmBackward>)\n",
      "--------\n",
      "Prediction for the MNIST 7 image : 7\n"
     ]
    }
   ],
   "source": [
    "print_prediction()"
   ]
  },
  {
   "cell_type": "code",
   "execution_count": null,
   "metadata": {},
   "outputs": [],
   "source": []
  }
 ],
 "metadata": {
  "kernelspec": {
   "display_name": "Python 3",
   "language": "python",
   "name": "python3"
  },
  "language_info": {
   "codemirror_mode": {
    "name": "ipython",
    "version": 3
   },
   "file_extension": ".py",
   "mimetype": "text/x-python",
   "name": "python",
   "nbconvert_exporter": "python",
   "pygments_lexer": "ipython3",
   "version": "3.6.4"
  }
 },
 "nbformat": 4,
 "nbformat_minor": 2
}
